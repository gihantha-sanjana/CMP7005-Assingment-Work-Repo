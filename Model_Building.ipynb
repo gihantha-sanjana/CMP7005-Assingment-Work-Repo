{
  "nbformat": 4,
  "nbformat_minor": 0,
  "metadata": {
    "colab": {
      "provenance": [],
      "authorship_tag": "ABX9TyMoWz2cEclvDzTbzN0dMlSx",
      "include_colab_link": true
    },
    "kernelspec": {
      "name": "python3",
      "display_name": "Python 3"
    },
    "language_info": {
      "name": "python"
    }
  },
  "cells": [
    {
      "cell_type": "markdown",
      "metadata": {
        "id": "view-in-github",
        "colab_type": "text"
      },
      "source": [
        "<a href=\"https://colab.research.google.com/github/gihantha-sanjana/CMP7005-Assingment-Work-Repo/blob/main/Model_Building.ipynb\" target=\"_parent\"><img src=\"https://colab.research.google.com/assets/colab-badge.svg\" alt=\"Open In Colab\"/></a>"
      ]
    },
    {
      "cell_type": "code",
      "execution_count": 1,
      "metadata": {
        "id": "rnrb4Rdljnn9"
      },
      "outputs": [],
      "source": [
        "import pandas as pd"
      ]
    },
    {
      "cell_type": "code",
      "source": [
        "from google.colab import drive\n",
        "drive.mount('/content/drive', force_remount=True)\n"
      ],
      "metadata": {
        "id": "6USU2oX477Q-",
        "outputId": "88506a2e-890e-4ba1-ad87-9068aa389ebe",
        "colab": {
          "base_uri": "https://localhost:8080/"
        }
      },
      "execution_count": 2,
      "outputs": [
        {
          "output_type": "stream",
          "name": "stdout",
          "text": [
            "Mounted at /content/drive\n"
          ]
        }
      ]
    },
    {
      "cell_type": "markdown",
      "source": [
        "# **Load preprocessed data with DATETIME as index**"
      ],
      "metadata": {
        "id": "qtep41AtEi5g"
      }
    },
    {
      "cell_type": "code",
      "source": [
        "data = pd.read_csv(\"/content/drive/MyDrive/ColabNotebooks/DatasetCMP7005/MergeDataSet/Preprocessed-Data.csv\", index_col=0, parse_dates=True)\n",
        "print(data.head())"
      ],
      "metadata": {
        "id": "AvTg-6kkBmZF",
        "outputId": "a28b3a3a-f48f-46ec-e6d8-4f52302fab25",
        "colab": {
          "base_uri": "https://localhost:8080/"
        }
      },
      "execution_count": 3,
      "outputs": [
        {
          "output_type": "stream",
          "name": "stdout",
          "text": [
            "                     PM2.5  PM10   SO2   NO2     CO    O3  TEMP    PRES  \\\n",
            "DATETIME                                                                  \n",
            "2013-03-01 00:00:00    4.0   4.0   4.0   7.0  300.0  77.0  -0.7  1023.0   \n",
            "2013-03-01 01:00:00    8.0   8.0   4.0   7.0  300.0  77.0  -1.1  1023.2   \n",
            "2013-03-01 02:00:00    7.0   7.0   5.0  10.0  300.0  73.0  -1.1  1023.5   \n",
            "2013-03-01 03:00:00    6.0   6.0  11.0  11.0  300.0  72.0  -1.4  1024.5   \n",
            "2013-03-01 04:00:00    3.0   3.0  12.0  12.0  300.0  72.0  -2.0  1025.2   \n",
            "\n",
            "                     DEW_POINT  RAIN     WD    WS       STATION   HUMIDITY  \\\n",
            "DATETIME                                                                     \n",
            "2013-03-01 00:00:00      -18.8   0.0  337.5  4.15  Aotizhongxin  23.878120   \n",
            "2013-03-01 01:00:00      -18.2   0.0    0.0  4.15  Aotizhongxin  25.880955   \n",
            "2013-03-01 02:00:00      -18.2   0.0  337.5  4.15  Aotizhongxin  25.880955   \n",
            "2013-03-01 03:00:00      -19.4   0.0  315.0  3.10  Aotizhongxin  23.872562   \n",
            "2013-03-01 04:00:00      -19.5   0.0    0.0  2.00  Aotizhongxin  24.737858   \n",
            "\n",
            "                     MAX_AQI                    AQI_CATEGORY  \n",
            "DATETIME                                                      \n",
            "2013-03-01 00:00:00   123.33  Unhealthy for Sensitive Groups  \n",
            "2013-03-01 01:00:00   123.33  Unhealthy for Sensitive Groups  \n",
            "2013-03-01 02:00:00   110.00  Unhealthy for Sensitive Groups  \n",
            "2013-03-01 03:00:00   106.67  Unhealthy for Sensitive Groups  \n",
            "2013-03-01 04:00:00   106.67  Unhealthy for Sensitive Groups  \n"
          ]
        }
      ]
    },
    {
      "cell_type": "code",
      "source": [
        "data.dtypes"
      ],
      "metadata": {
        "id": "2ykalYhozpCH",
        "outputId": "41f5cb84-8cf4-44f0-e8b3-ef460994a507",
        "colab": {
          "base_uri": "https://localhost:8080/",
          "height": 585
        }
      },
      "execution_count": 4,
      "outputs": [
        {
          "output_type": "execute_result",
          "data": {
            "text/plain": [
              "PM2.5           float64\n",
              "PM10            float64\n",
              "SO2             float64\n",
              "NO2             float64\n",
              "CO              float64\n",
              "O3              float64\n",
              "TEMP            float64\n",
              "PRES            float64\n",
              "DEW_POINT       float64\n",
              "RAIN            float64\n",
              "WD              float64\n",
              "WS              float64\n",
              "STATION          object\n",
              "HUMIDITY        float64\n",
              "MAX_AQI         float64\n",
              "AQI_CATEGORY     object\n",
              "dtype: object"
            ],
            "text/html": [
              "<div>\n",
              "<style scoped>\n",
              "    .dataframe tbody tr th:only-of-type {\n",
              "        vertical-align: middle;\n",
              "    }\n",
              "\n",
              "    .dataframe tbody tr th {\n",
              "        vertical-align: top;\n",
              "    }\n",
              "\n",
              "    .dataframe thead th {\n",
              "        text-align: right;\n",
              "    }\n",
              "</style>\n",
              "<table border=\"1\" class=\"dataframe\">\n",
              "  <thead>\n",
              "    <tr style=\"text-align: right;\">\n",
              "      <th></th>\n",
              "      <th>0</th>\n",
              "    </tr>\n",
              "  </thead>\n",
              "  <tbody>\n",
              "    <tr>\n",
              "      <th>PM2.5</th>\n",
              "      <td>float64</td>\n",
              "    </tr>\n",
              "    <tr>\n",
              "      <th>PM10</th>\n",
              "      <td>float64</td>\n",
              "    </tr>\n",
              "    <tr>\n",
              "      <th>SO2</th>\n",
              "      <td>float64</td>\n",
              "    </tr>\n",
              "    <tr>\n",
              "      <th>NO2</th>\n",
              "      <td>float64</td>\n",
              "    </tr>\n",
              "    <tr>\n",
              "      <th>CO</th>\n",
              "      <td>float64</td>\n",
              "    </tr>\n",
              "    <tr>\n",
              "      <th>O3</th>\n",
              "      <td>float64</td>\n",
              "    </tr>\n",
              "    <tr>\n",
              "      <th>TEMP</th>\n",
              "      <td>float64</td>\n",
              "    </tr>\n",
              "    <tr>\n",
              "      <th>PRES</th>\n",
              "      <td>float64</td>\n",
              "    </tr>\n",
              "    <tr>\n",
              "      <th>DEW_POINT</th>\n",
              "      <td>float64</td>\n",
              "    </tr>\n",
              "    <tr>\n",
              "      <th>RAIN</th>\n",
              "      <td>float64</td>\n",
              "    </tr>\n",
              "    <tr>\n",
              "      <th>WD</th>\n",
              "      <td>float64</td>\n",
              "    </tr>\n",
              "    <tr>\n",
              "      <th>WS</th>\n",
              "      <td>float64</td>\n",
              "    </tr>\n",
              "    <tr>\n",
              "      <th>STATION</th>\n",
              "      <td>object</td>\n",
              "    </tr>\n",
              "    <tr>\n",
              "      <th>HUMIDITY</th>\n",
              "      <td>float64</td>\n",
              "    </tr>\n",
              "    <tr>\n",
              "      <th>MAX_AQI</th>\n",
              "      <td>float64</td>\n",
              "    </tr>\n",
              "    <tr>\n",
              "      <th>AQI_CATEGORY</th>\n",
              "      <td>object</td>\n",
              "    </tr>\n",
              "  </tbody>\n",
              "</table>\n",
              "</div><br><label><b>dtype:</b> object</label>"
            ]
          },
          "metadata": {},
          "execution_count": 4
        }
      ]
    },
    {
      "cell_type": "code",
      "source": [
        "import pandas as pd\n",
        "from sklearn.model_selection import train_test_split\n",
        "from sklearn.preprocessing import StandardScaler, LabelEncoder\n",
        "from sklearn.metrics import mean_absolute_error, mean_squared_error, r2_score, accuracy_score, classification_report\n",
        "from sklearn.ensemble import RandomForestRegressor, RandomForestClassifier\n",
        "from sklearn.linear_model import LinearRegression, LogisticRegression\n",
        "from sklearn.svm import SVR, SVC\n",
        "import xgboost as xgb\n",
        "from sklearn.compose import ColumnTransformer\n",
        "from sklearn.preprocessing import OneHotEncoder\n",
        "\n",
        "# Load and preprocess the data\n",
        "# Assuming `data` is already loaded and has DATETIME as the index\n",
        "# Ensure index is datetime\n",
        "data.index = pd.to_datetime(data.index, errors='coerce')\n",
        "\n",
        "# Create lag features\n",
        "lags = 3  # Number of lagged time steps\n",
        "for i in range(1, lags + 1):\n",
        "    data[f\"lag_{i}\"] = data['MAX_AQI'].shift(i)\n",
        "\n",
        "# Drop missing values introduced by lagging\n",
        "data = data.dropna()\n",
        "\n",
        "# Separate features and targets\n",
        "X = data.drop(['MAX_AQI', 'AQI_CATEGORY'], axis=1)  # Features\n",
        "y_reg = data['MAX_AQI']  # Target for regression\n",
        "y_clf = data['AQI_CATEGORY']  # Target for classification\n",
        "\n",
        "# Encode the classification target\n",
        "label_encoder = LabelEncoder()\n",
        "y_clf = label_encoder.fit_transform(y_clf)\n",
        "\n",
        "# Identify categorical and numeric columns\n",
        "categorical_cols = X.select_dtypes(include=['object']).columns\n",
        "numeric_cols = X.select_dtypes(include=['float64', 'int64']).columns\n",
        "\n",
        "# Define preprocessing for numeric and categorical data\n",
        "preprocessor = ColumnTransformer(\n",
        "    transformers=[\n",
        "        ('num', StandardScaler(), numeric_cols),            # Scale numeric columns\n",
        "        ('cat', OneHotEncoder(handle_unknown='ignore'), categorical_cols)  # Encode categorical columns\n",
        "    ]\n",
        ")\n",
        "\n",
        "# Preprocess the features\n",
        "X_processed = preprocessor.fit_transform(X)\n",
        "\n",
        "# Split data into training and testing sets\n",
        "X_train, X_test, y_train_reg, y_test_reg = train_test_split(X_processed, y_reg, test_size=0.2, random_state=42, shuffle=False)\n",
        "X_train_clf, X_test_clf, y_train_clf, y_test_clf = train_test_split(X_processed, y_clf, test_size=0.2, random_state=42, shuffle=False)\n",
        "\n",
        "# --------------------\n",
        "# Train Models\n",
        "\n",
        "# Results storage\n",
        "results = {}\n",
        "\n",
        "# Regression Models\n",
        "# 1. Linear Regression\n",
        "lin_reg = LinearRegression()\n",
        "lin_reg.fit(X_train, y_train_reg)\n",
        "y_pred_reg = lin_reg.predict(X_test)\n",
        "results['Linear Regression'] = {\n",
        "    'MAE': mean_absolute_error(y_test_reg, y_pred_reg),\n",
        "    'R2': r2_score(y_test_reg, y_pred_reg)\n",
        "}\n",
        "\n",
        "# 2. Random Forest Regressor\n",
        "rf_reg = RandomForestRegressor(random_state=42)\n",
        "rf_reg.fit(X_train, y_train_reg)\n",
        "y_pred_reg = rf_reg.predict(X_test)\n",
        "results['Random Forest Regressor'] = {\n",
        "    'MAE': mean_absolute_error(y_test_reg, y_pred_reg),\n",
        "    'R2': r2_score(y_test_reg, y_pred_reg)\n",
        "}\n",
        "\n",
        "# 3. XGBoost Regressor\n",
        "xgb_reg = xgb.XGBRegressor(random_state=42)\n",
        "xgb_reg.fit(X_train, y_train_reg)\n",
        "y_pred_reg = xgb_reg.predict(X_test)\n",
        "results['XGBoost Regressor'] = {\n",
        "    'MAE': mean_absolute_error(y_test_reg, y_pred_reg),\n",
        "    'R2': r2_score(y_test_reg, y_pred_reg)\n",
        "}\n",
        "\n",
        "# --------------------\n",
        "# Display Results\n",
        "import pprint\n",
        "pprint.pprint(results)\n"
      ],
      "metadata": {
        "id": "waE5XxyQ2gJT",
        "outputId": "a151ca4f-2461-42ad-a063-71c7b0132aa5",
        "colab": {
          "base_uri": "https://localhost:8080/"
        }
      },
      "execution_count": 4,
      "outputs": [
        {
          "output_type": "stream",
          "name": "stdout",
          "text": [
            "{'Linear Regression': {'MAE': 16.461926235541743, 'R2': 0.9131045776760967},\n",
            " 'Random Forest Regressor': {'MAE': 1.9961190287031485,\n",
            "                             'R2': 0.9815714735415095},\n",
            " 'XGBoost Regressor': {'MAE': 3.560148699550873, 'R2': 0.9802915955990372}}\n"
          ]
        }
      ]
    },
    {
      "cell_type": "markdown",
      "source": [
        "# **After Looking Above values i decide to select Random Forest Regression because it Performance are excellent, Low Errors and R2 value is high.**"
      ],
      "metadata": {
        "id": "qm-fqCSGEokh"
      }
    },
    {
      "cell_type": "code",
      "source": [
        "import pandas as pd\n",
        "from sklearn.model_selection import train_test_split\n",
        "from sklearn.preprocessing import StandardScaler, OneHotEncoder\n",
        "from sklearn.compose import ColumnTransformer\n",
        "from sklearn.ensemble import RandomForestRegressor\n",
        "from sklearn.metrics import mean_absolute_error, r2_score\n",
        "import joblib\n",
        "\n",
        "# Load the dataset\n",
        "data = pd.read_csv(\n",
        "    \"/content/drive/MyDrive/ColabNotebooks/DatasetCMP7005/MergeDataSet/Preprocessed-Data.csv\",\n",
        "    index_col=0,\n",
        "    parse_dates=True\n",
        ")\n",
        "\n",
        "# Ensure index is datetime\n",
        "data.index = pd.to_datetime(data.index, errors='coerce')\n",
        "\n",
        "# Create lag features\n",
        "lags = 3  # Number of lagged time steps\n",
        "for i in range(1, lags + 1):\n",
        "    data[f\"lag_{i}\"] = data['MAX_AQI'].shift(i)\n",
        "\n",
        "# Drop missing values introduced by lagging\n",
        "data = data.dropna()\n",
        "\n",
        "# Features and target\n",
        "X = data.drop(['MAX_AQI', 'AQI_CATEGORY'], axis=1)  # Exclude target variable\n",
        "y = data['MAX_AQI']  # Target variable\n",
        "\n",
        "# Identify categorical and numeric columns\n",
        "categorical_cols = X.select_dtypes(include=['object']).columns\n",
        "numeric_cols = X.select_dtypes(include=['float64', 'int64']).columns\n",
        "\n",
        "# Preprocess categorical and numeric data\n",
        "preprocessor = ColumnTransformer(\n",
        "    transformers=[\n",
        "        ('num', StandardScaler(), numeric_cols),            # Scale numeric columns\n",
        "        ('cat', OneHotEncoder(handle_unknown='ignore'), categorical_cols)  # Encode categorical columns\n",
        "    ]\n",
        ")\n",
        "\n",
        "# Train-test split\n",
        "X_train, X_test, y_train, y_test = train_test_split(X, y, test_size=0.2, shuffle=False)\n",
        "\n",
        "# Preprocess the data\n",
        "X_train_processed = preprocessor.fit_transform(X_train)\n",
        "X_test_processed = preprocessor.transform(X_test)\n",
        "\n",
        "# Train Random Forest Regressor\n",
        "rf_reg = RandomForestRegressor(n_estimators=100, random_state=42)\n",
        "rf_reg.fit(X_train_processed, y_train)\n",
        "\n",
        "# Evaluate the model\n",
        "y_pred = rf_reg.predict(X_test_processed)\n",
        "mae = mean_absolute_error(y_test, y_pred)\n",
        "r2 = r2_score(y_test, y_pred)\n",
        "\n",
        "print(f\"Random Forest Regressor Performance:\")\n",
        "print(f\"Mean Absolute Error (MAE): {mae}\")\n",
        "print(f\"R2 Score: {r2}\")\n",
        "\n",
        "# Save the trained model\n",
        "joblib.dump(rf_reg, \"random_forest_model.pkl\")\n",
        "print(\"Model saved as random_forest_model.pkl\")\n",
        "\n",
        "# Save the preprocessor for deployment\n",
        "joblib.dump(preprocessor, \"preprocessor.pkl\")\n",
        "print(\"Preprocessor saved as preprocessor.pkl\")\n"
      ],
      "metadata": {
        "id": "J243fDFpcA-R",
        "outputId": "f4f1d3c5-cfed-42f7-a8c4-2b0020d9426d",
        "colab": {
          "base_uri": "https://localhost:8080/"
        }
      },
      "execution_count": 7,
      "outputs": [
        {
          "output_type": "stream",
          "name": "stdout",
          "text": [
            "Random Forest Regressor Performance:\n",
            "Mean Absolute Error (MAE): 1.992728032757009\n",
            "R2 Score: 0.9814810716858263\n",
            "Model saved as random_forest_model.pkl\n",
            "Preprocessor saved as preprocessor.pkl\n"
          ]
        }
      ]
    }
  ]
}