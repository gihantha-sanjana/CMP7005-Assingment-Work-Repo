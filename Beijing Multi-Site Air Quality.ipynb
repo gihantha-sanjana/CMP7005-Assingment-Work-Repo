{
  "nbformat": 4,
  "nbformat_minor": 0,
  "metadata": {
    "colab": {
      "provenance": [],
      "authorship_tag": "ABX9TyPdPiiPp0NKmE2+NKc7hYzK",
      "include_colab_link": true
    },
    "kernelspec": {
      "name": "python3",
      "display_name": "Python 3"
    },
    "language_info": {
      "name": "python"
    }
  },
  "cells": [
    {
      "cell_type": "markdown",
      "metadata": {
        "id": "view-in-github",
        "colab_type": "text"
      },
      "source": [
        "<a href=\"https://colab.research.google.com/github/gihantha-sanjana/CMP7005-Assingment-Work-Repo/blob/main/Beijing%20Multi-Site%20Air%20Quality.ipynb\" target=\"_parent\"><img src=\"https://colab.research.google.com/assets/colab-badge.svg\" alt=\"Open In Colab\"/></a>"
      ]
    },
    {
      "cell_type": "markdown",
      "source": [
        "# **Import Libraries needed.**"
      ],
      "metadata": {
        "id": "oeudCZBAZc2p"
      }
    },
    {
      "cell_type": "code",
      "source": [
        "import pandas as pd\n",
        "import glob\n",
        "import matplotlib.pyplot as plt\n",
        "import seaborn as sns"
      ],
      "metadata": {
        "id": "UayfJBpJFxlp"
      },
      "execution_count": null,
      "outputs": []
    },
    {
      "cell_type": "markdown",
      "source": [
        "# **Mount the Google Drive.**"
      ],
      "metadata": {
        "id": "OKS9qLCHZjkg"
      }
    },
    {
      "cell_type": "code",
      "execution_count": null,
      "metadata": {
        "id": "cJL-J6UN97Cc"
      },
      "outputs": [],
      "source": [
        "from google.colab import drive\n",
        "drive.mount('/content/drive', force_remount=True)\n"
      ]
    },
    {
      "cell_type": "markdown",
      "source": [
        "# **Direct to the DataSet Folder Path.**"
      ],
      "metadata": {
        "id": "akssPBhPmC41"
      }
    },
    {
      "cell_type": "code",
      "source": [
        "import os\n",
        "# Change to the desired directory\n",
        "os.chdir('/content/drive/My Drive/ColabNotebooks/DatasetCMP7005')\n",
        "\n",
        "# Verify the current directory\n",
        "print(\"Current Directory:\", os.getcwd())"
      ],
      "metadata": {
        "id": "2y_3tbzjiWxc"
      },
      "execution_count": null,
      "outputs": []
    },
    {
      "cell_type": "markdown",
      "source": [
        "# **Display All CSV files in my Google Drive Folder**"
      ],
      "metadata": {
        "id": "KlRETYcOD2vY"
      }
    },
    {
      "cell_type": "code",
      "source": [
        "csv_files = glob.glob('*.{}'.format('csv'))\n",
        "csv_files"
      ],
      "metadata": {
        "id": "AkN-Jyg3Chl1"
      },
      "execution_count": null,
      "outputs": []
    },
    {
      "cell_type": "code",
      "source": [
        "df_list = [pd.read_csv(file) for file in csv_files]"
      ],
      "metadata": {
        "id": "alJ6K9H_FIlC"
      },
      "execution_count": null,
      "outputs": []
    },
    {
      "cell_type": "code",
      "source": [
        "# Merge the 7 Data Files into One Main CSV file\n",
        "df_merged = pd.concat(df_list, axis=0, ignore_index=True)"
      ],
      "metadata": {
        "id": "_mmPs7uJF4OT"
      },
      "execution_count": null,
      "outputs": []
    },
    {
      "cell_type": "markdown",
      "source": [
        "# **Merge the DataSet files into One.**"
      ],
      "metadata": {
        "id": "CoOYSfOcmPSD"
      }
    },
    {
      "cell_type": "code",
      "source": [
        "df_merged"
      ],
      "metadata": {
        "id": "UDP4SC6OGcEp"
      },
      "execution_count": null,
      "outputs": []
    },
    {
      "cell_type": "markdown",
      "source": [
        "# **Check for null values, data types, and overall structure.**"
      ],
      "metadata": {
        "id": "W61I-nIxoiTN"
      }
    },
    {
      "cell_type": "code",
      "source": [
        "df_merged.info()"
      ],
      "metadata": {
        "id": "oaAP9nBboYL8"
      },
      "execution_count": null,
      "outputs": []
    },
    {
      "cell_type": "markdown",
      "source": [
        "# **Rename the Dataset Column Names**"
      ],
      "metadata": {
        "id": "xZNzbiqymnYy"
      }
    },
    {
      "cell_type": "code",
      "source": [
        "df_merged.rename(columns={'No': 'NO', 'year': 'YEAR', 'month': 'MONTH', 'day':'DAY','hour':'HOUR','DEWP':'DEW_POINT','wd':'WD','WSPM':'WS','station':'STATION'}, inplace=True)"
      ],
      "metadata": {
        "id": "_eFFdC5mmpG6"
      },
      "execution_count": null,
      "outputs": []
    },
    {
      "cell_type": "code",
      "source": [
        "# Check after Rename columns\n",
        "df_merged.head()"
      ],
      "metadata": {
        "id": "eeO4kr_xmtTq"
      },
      "execution_count": null,
      "outputs": []
    },
    {
      "cell_type": "markdown",
      "source": [
        "# **Converting Object dtypes to category dtype for better Memory-effeciency and Performance.**"
      ],
      "metadata": {
        "id": "Jyu4yp01hQKJ"
      }
    },
    {
      "cell_type": "code",
      "source": [
        "df_merged['WD'] = df_merged['WD'].astype('category')\n",
        "df_merged['STATION'] = df_merged['STATION'].astype('category')"
      ],
      "metadata": {
        "id": "SqBm3RVGhQs-"
      },
      "execution_count": null,
      "outputs": []
    },
    {
      "cell_type": "code",
      "source": [
        "# Check after Converting\n",
        "df_merged.dtypes"
      ],
      "metadata": {
        "id": "awAnuiaDh6ba"
      },
      "execution_count": null,
      "outputs": []
    },
    {
      "cell_type": "code",
      "source": [
        "# Check Null values as Precentage\n",
        "df_merged.isna().sum()/len(df_merged)*100"
      ],
      "metadata": {
        "id": "h8EjACt5MZB4"
      },
      "execution_count": null,
      "outputs": []
    },
    {
      "cell_type": "markdown",
      "source": [
        "# **Combined the Year, Month, Day and Hour Columns as a One Column in Dataset becuase we can do EDA easily by doing this.**"
      ],
      "metadata": {
        "id": "rwe9KzS8m0IS"
      }
    },
    {
      "cell_type": "code",
      "source": [
        "#Combine the Columns\n",
        "df_merged['DATETIME'] = pd.to_datetime(df_merged[['YEAR', 'MONTH', 'DAY', 'HOUR']])\n",
        "\n",
        "#Remove the original columns\n",
        "df_merged = df_merged.drop(columns=['YEAR', 'MONTH', 'DAY', 'HOUR'])\n",
        "\n",
        "df_merged.head()"
      ],
      "metadata": {
        "id": "1UZmrLo0m0nq"
      },
      "execution_count": null,
      "outputs": []
    },
    {
      "cell_type": "code",
      "source": [
        "# Check the Datetime column add and Remove current columns call YEAR,MONTH,DAY and HOUR\n",
        "df_merged.info()"
      ],
      "metadata": {
        "id": "0BQFUcp0m5cy"
      },
      "execution_count": null,
      "outputs": []
    },
    {
      "cell_type": "markdown",
      "source": [
        "# **Check the DataSet Rows**"
      ],
      "metadata": {
        "id": "ub0RKMtyRL-g"
      }
    },
    {
      "cell_type": "code",
      "source": [
        "df_merged.shape[0]"
      ],
      "metadata": {
        "id": "lQh04rMAQgIw"
      },
      "execution_count": null,
      "outputs": []
    },
    {
      "cell_type": "markdown",
      "source": [
        "# **Check the DataSet Columns**"
      ],
      "metadata": {
        "id": "hjxrgRY7RPwE"
      }
    },
    {
      "cell_type": "code",
      "source": [
        "df_merged.shape[1]"
      ],
      "metadata": {
        "id": "genBSn8TRPRQ"
      },
      "execution_count": null,
      "outputs": []
    },
    {
      "cell_type": "code",
      "source": [
        "df_merged.isna().sum()"
      ],
      "metadata": {
        "id": "8kCyc73TP5Ff"
      },
      "execution_count": null,
      "outputs": []
    },
    {
      "cell_type": "markdown",
      "source": [
        "# **Checking the Precentage of Missing Values in DataSet**"
      ],
      "metadata": {
        "id": "nY1tALSWQo8h"
      }
    },
    {
      "cell_type": "code",
      "source": [
        "df_merged.isna().sum()/len(df_merged)*100"
      ],
      "metadata": {
        "id": "RbnzCpjNQlxR"
      },
      "execution_count": null,
      "outputs": []
    },
    {
      "cell_type": "markdown",
      "source": [
        "# **check the Missing Values DataType**"
      ],
      "metadata": {
        "id": "qS-C1F0dSjPQ"
      }
    },
    {
      "cell_type": "code",
      "source": [
        "df_merged.isna().sum().dtypes"
      ],
      "metadata": {
        "id": "awKFJFazSVPo"
      },
      "execution_count": null,
      "outputs": []
    },
    {
      "cell_type": "markdown",
      "source": [
        "# **Checking the Missing Values in my Dataset using HeatMap in here Every yellow line indicates true it meaning where we have null values.**"
      ],
      "metadata": {
        "id": "jhxWbHYkm-8S"
      }
    },
    {
      "cell_type": "code",
      "source": [
        "import seaborn as sns\n",
        "sns.heatmap(df_merged.isnull(), yticklabels=False,cbar=False,cmap='viridis')"
      ],
      "metadata": {
        "id": "40LR0FYAm_Ya"
      },
      "execution_count": null,
      "outputs": []
    },
    {
      "cell_type": "code",
      "source": [
        "# This also view the Missing values in Our Dataset\n",
        "import missingno as msno\n",
        "msno.matrix(df_merged)\n"
      ],
      "metadata": {
        "id": "SNqI88p3sPFv"
      },
      "execution_count": null,
      "outputs": []
    },
    {
      "cell_type": "markdown",
      "source": [
        "# **Drop the No Column becuase it is not Important.**"
      ],
      "metadata": {
        "id": "iNfiyaKUmvob"
      }
    },
    {
      "cell_type": "code",
      "source": [
        "df_merged.drop('NO', axis=1, inplace=True)"
      ],
      "metadata": {
        "id": "oLHDgQGgmwBL"
      },
      "execution_count": null,
      "outputs": []
    },
    {
      "cell_type": "code",
      "source": [
        "# Check the NO column is droped from the Head\n",
        "df_merged.head()"
      ],
      "metadata": {
        "id": "APJnxNrgmyjr"
      },
      "execution_count": null,
      "outputs": []
    },
    {
      "cell_type": "markdown",
      "source": [
        "# **Total missing values per variable**"
      ],
      "metadata": {
        "id": "5_RTFIPAlpZ0"
      }
    },
    {
      "cell_type": "code",
      "source": [
        "data = df_merged.copy()\n",
        "data['DATETIME'] = pd.to_datetime(data['DATETIME'])\n",
        "data.set_index('DATETIME', inplace=True)"
      ],
      "metadata": {
        "id": "1gRRqc7qlDAa"
      },
      "execution_count": null,
      "outputs": []
    },
    {
      "cell_type": "markdown",
      "source": [
        "# **Check Missing Year wise Carbon Monoxide Value using plot**"
      ],
      "metadata": {
        "id": "_cGseMw_QTxB"
      }
    },
    {
      "cell_type": "code",
      "source": [
        "mis_co = data['CO'].isnull().astype(int)\n",
        "plt.figure(figsize=(6, 3))\n",
        "mis_co.resample('D').sum().plot(title=\"Missing Carbon Monoxide Over Time\", ylabel=\"Count of Missing Values\", xlabel=\"Date\")\n",
        "plt.show()"
      ],
      "metadata": {
        "id": "SndcBQ-aOG-_"
      },
      "execution_count": null,
      "outputs": []
    },
    {
      "cell_type": "markdown",
      "source": [
        "# **Check Total Missing Values Per Variable using Bar Plot.**"
      ],
      "metadata": {
        "id": "lQjebokJQyeb"
      }
    },
    {
      "cell_type": "code",
      "source": [
        "data.isnull().sum().plot(kind='bar', title='Total Missing Values by Variable', xlabel='Variables', ylabel='Count')\n",
        "plt.show()"
      ],
      "metadata": {
        "id": "55toTp2kgGb9"
      },
      "execution_count": null,
      "outputs": []
    },
    {
      "cell_type": "code",
      "source": [
        "mis_pm25 = data['PM2.5'].isnull().astype(int)\n",
        "plt.figure(figsize=(8, 4))\n",
        "mis_pm25.resample('D').sum().plot(title=\"Missing PM2.5 Over Time\", ylabel=\"Count of Missing Values\", xlabel=\"Date\")\n",
        "plt.show()\n"
      ],
      "metadata": {
        "id": "EBImhCJdQ33V"
      },
      "execution_count": null,
      "outputs": []
    },
    {
      "cell_type": "code",
      "source": [
        "mis_pm10 = data['PM10'].isnull().astype(int)\n",
        "plt.figure(figsize=(8, 4))\n",
        "mis_pm10.resample('D').sum().plot(title=\"Missing PM10 Over Time\", ylabel=\"Count of Missing Values\", xlabel=\"Date\")\n",
        "plt.show()\n"
      ],
      "metadata": {
        "id": "0alxQqfVdfY2"
      },
      "execution_count": null,
      "outputs": []
    },
    {
      "cell_type": "markdown",
      "source": [
        "# **Filling null values using**"
      ],
      "metadata": {
        "id": "kyn5Mwhk_xTn"
      }
    },
    {
      "cell_type": "markdown",
      "source": [
        "# **I use Interpolation becuase my data set is Time-Series data.**"
      ],
      "metadata": {
        "id": "i0MpjQcPerg0"
      }
    },
    {
      "cell_type": "code",
      "source": [
        "pollutants = ['PM2.5', 'PM10', 'SO2', 'NO2', 'CO', 'O3']\n",
        "data[pollutants] = data[pollutants].interpolate(method='time')\n",
        "print(data[pollutants].isnull().sum())"
      ],
      "metadata": {
        "id": "foGJNv12Zl02"
      },
      "execution_count": null,
      "outputs": []
    },
    {
      "cell_type": "code",
      "source": [
        "columns_to_interpolate = ['TEMP', 'PRES', 'DEW_POINT']\n",
        "data[columns_to_interpolate] = data[columns_to_interpolate].interpolate(method='linear')\n",
        "print(data[columns_to_interpolate].isnull().sum())"
      ],
      "metadata": {
        "id": "zwZDaKtFaA6n"
      },
      "execution_count": null,
      "outputs": []
    },
    {
      "cell_type": "markdown",
      "source": [
        "# **For fill the Rain and Wind Speed I used Fo**"
      ],
      "metadata": {
        "id": "p-bR3CMEfxVo"
      }
    },
    {
      "cell_type": "code",
      "source": [
        "data['RAIN'] = data['RAIN'].ffill()\n",
        "data['RAIN'] = data['RAIN'].bfill()\n",
        "data['WS'] = data['WS'].ffill()\n",
        "data['WS'] = data['WS'].bfill()"
      ],
      "metadata": {
        "id": "NbY2reSlaOui"
      },
      "execution_count": null,
      "outputs": []
    },
    {
      "cell_type": "markdown",
      "source": [
        "# **Verify the null values are fill.**"
      ],
      "metadata": {
        "id": "u01o6TVj_8oY"
      }
    },
    {
      "cell_type": "code",
      "source": [
        "print(data.isnull().sum())"
      ],
      "metadata": {
        "id": "ZQCFaXRp-vMn"
      },
      "execution_count": null,
      "outputs": []
    },
    {
      "cell_type": "markdown",
      "source": [
        "# **Check the Null Values Summary in Data Set**"
      ],
      "metadata": {
        "id": "-As1ugD7rEZK"
      }
    },
    {
      "cell_type": "code",
      "source": [
        "data.isna().sum()"
      ],
      "metadata": {
        "id": "TjPpIsJqrAyS"
      },
      "execution_count": null,
      "outputs": []
    },
    {
      "cell_type": "markdown",
      "source": [
        "# **Convert Wind Direction into Quater-Winds**"
      ],
      "metadata": {
        "id": "4nmdLUufVer4"
      }
    },
    {
      "cell_type": "code",
      "source": [
        "direction_mapping = {\n",
        "    'N': 0,         # North\n",
        "    'NNE': 22.5,    # North-North-East\n",
        "    'NE': 45,       # North-East\n",
        "    'ENE': 67.5,    # East-North-East\n",
        "    'E': 90,        # East\n",
        "    'SE': 135,      # South-East\n",
        "    'S': 180,       # South\n",
        "    'SSW': 202.5,   # South-South-West\n",
        "    'SW': 225,      # South-West\n",
        "    'WSW': 247.5,   # West-South-West\n",
        "    'W': 270,       # West\n",
        "    'WNW': 292.5,   # West-North-West\n",
        "    'NW': 315,      # North-West\n",
        "    'NNW': 337.5    # North-North-West\n",
        "}\n",
        "\n",
        "# Apply the mapping to the 'Wind Direction' column\n",
        "data['WD'] = data['WD'].map(direction_mapping)"
      ],
      "metadata": {
        "id": "bG5vVbb0VeFc"
      },
      "execution_count": null,
      "outputs": []
    },
    {
      "cell_type": "markdown",
      "source": [
        "# **Wind Direction Column fill with Previous Valid Value**"
      ],
      "metadata": {
        "id": "SskYpZZYsVTT"
      }
    },
    {
      "cell_type": "code",
      "source": [
        "data['WD'] = data['WD'].ffill()"
      ],
      "metadata": {
        "id": "J32YF0UUrMpa"
      },
      "execution_count": null,
      "outputs": []
    },
    {
      "cell_type": "code",
      "source": [
        "data.isna().sum()"
      ],
      "metadata": {
        "id": "MDy2tvn3sErr"
      },
      "execution_count": null,
      "outputs": []
    },
    {
      "cell_type": "markdown",
      "source": [
        "# **Now check the Dataset still have Null values.**"
      ],
      "metadata": {
        "id": "aKM3M3mpsf7T"
      }
    },
    {
      "cell_type": "code",
      "source": [
        "plt.figure(figsize=(10, 5))\n",
        "sns.heatmap(data.isnull(), cbar=False, cmap=\"viridis\")\n",
        "plt.title(\"Heatmap of Missing Values\")\n",
        "plt.xlabel(\"Columns\")\n",
        "plt.ylabel(\"Rows\")\n",
        "plt.show()"
      ],
      "metadata": {
        "id": "3FVAf3uLseQC"
      },
      "execution_count": null,
      "outputs": []
    },
    {
      "cell_type": "code",
      "source": [
        "data.head()"
      ],
      "metadata": {
        "id": "e7tuVh-kIGfm"
      },
      "execution_count": null,
      "outputs": []
    },
    {
      "cell_type": "code",
      "source": [
        "data.describe()"
      ],
      "metadata": {
        "id": "4ciKOHcRomMA"
      },
      "execution_count": null,
      "outputs": []
    },
    {
      "cell_type": "code",
      "source": [
        "data.dtypes"
      ],
      "metadata": {
        "id": "xgEbHoiyIJYb"
      },
      "execution_count": null,
      "outputs": []
    },
    {
      "cell_type": "markdown",
      "source": [
        "# **Feature Engineering**"
      ],
      "metadata": {
        "id": "xyDOvz-Fo53y"
      }
    },
    {
      "cell_type": "code",
      "source": [
        "import numpy as np\n",
        "\n",
        "def calculate_humidity(temp, dew_point):\n",
        "    # Calculate relative humidity using the dew point and temperature\n",
        "    numerator = np.exp((17.27 * temp) / (temp + 237.7))\n",
        "    denominator = np.exp((17.27 * dew_point) / (dew_point + 237.7))\n",
        "    return 100 * (denominator / numerator)\n",
        "\n",
        "# Apply to your data\n",
        "data['HUMIDITY'] = data.apply(lambda row: calculate_humidity(row['TEMP'], row['DEW_POINT']), axis=1)\n",
        "\n",
        "# View the calculated humidity\n",
        "print(data[['TEMP', 'DEW_POINT', 'HUMIDITY']].head())\n"
      ],
      "metadata": {
        "id": "4ij4Svxmo9up"
      },
      "execution_count": null,
      "outputs": []
    },
    {
      "cell_type": "markdown",
      "source": [
        "# **Calculate AQI and AQI Category.**"
      ],
      "metadata": {
        "id": "NKdHwsNnkhMM"
      }
    },
    {
      "cell_type": "code",
      "source": [
        "# Define AQI breakpoints\n",
        "breakpoints = {\n",
        "    'PM2.5': {\n",
        "        'low': [0, 12, 35.4, 55.4, 150, 250],\n",
        "        'high': [12, 35.4, 55.4, 150, 250, 500],\n",
        "        'low_aqi': [0, 50, 100, 150, 200, 300],\n",
        "        'high_aqi': [50, 100, 150, 200, 300, 500]\n",
        "    },\n",
        "    'PM10': {\n",
        "        'low': [0, 54, 154, 254, 354, 424],\n",
        "        'high': [54, 154, 254, 354, 424, 604],\n",
        "        'low_aqi': [0, 50, 100, 150, 200, 300],\n",
        "        'high_aqi': [50, 100, 150, 200, 300, 500]\n",
        "    },\n",
        "    'NO2': {\n",
        "        'low': [0, 53, 100, 360, 649, 1249],\n",
        "        'high': [53, 100, 360, 649, 1249, 2049],\n",
        "        'low_aqi': [0, 50, 100, 150, 200, 300],\n",
        "        'high_aqi': [50, 100, 150, 200, 300, 500]\n",
        "    },\n",
        "    'CO': {\n",
        "        'low': [0, 4.4, 9.4, 12.4, 15.4, 30.4],\n",
        "        'high': [4.4, 9.4, 12.4, 15.4, 30.4, 50.4],\n",
        "        'low_aqi': [0, 50, 100, 150, 200, 300],\n",
        "        'high_aqi': [50, 100, 150, 200, 300, 500]\n",
        "    },\n",
        "    'SO2': {\n",
        "        'low': [0, 35, 75, 185, 304, 604],\n",
        "        'high': [35, 75, 185, 304, 604, 1004],\n",
        "        'low_aqi': [0, 50, 100, 150, 200, 300],\n",
        "        'high_aqi': [50, 100, 150, 200, 300, 500]\n",
        "    },\n",
        "    'O3': {\n",
        "        'low': [0, 54, 70, 85, 105, 200],\n",
        "        'high': [54, 70, 85, 105, 200, 300],\n",
        "        'low_aqi': [0, 50, 100, 150, 200, 300],\n",
        "        'high_aqi': [50, 100, 150, 200, 300, 500]\n",
        "    }\n",
        "}\n",
        "\n",
        "# AQI Categories\n",
        "aqi_categories = {\n",
        "    (0, 50): \"Good\",\n",
        "    (51, 100): \"Moderate\",\n",
        "    (101, 150): \"Unhealthy for Sensitive Groups\",\n",
        "    (151, 200): \"Unhealthy\",\n",
        "    (201, 300): \"Very Unhealthy\",\n",
        "    (301, 500): \"Hazardous\"\n",
        "}\n",
        "\n",
        "# Function to calculate AQI and category\n",
        "def calculate_aqi(concentration, pollutant):\n",
        "    if pd.isnull(concentration):\n",
        "        return None, None  # Return None if the concentration is NaN\n",
        "\n",
        "    low_bp = breakpoints[pollutant]['low']\n",
        "    high_bp = breakpoints[pollutant]['high']\n",
        "    low_aqi = breakpoints[pollutant]['low_aqi']\n",
        "    high_aqi = breakpoints[pollutant]['high_aqi']\n",
        "\n",
        "    # Find the breakpoint range\n",
        "    for i in range(len(low_bp)):\n",
        "        if low_bp[i] <= concentration <= high_bp[i]:\n",
        "            I_low = low_aqi[i]\n",
        "            I_high = high_aqi[i]\n",
        "            BP_low = low_bp[i]\n",
        "            BP_high = high_bp[i]\n",
        "            # Calculate AQI using interpolation\n",
        "            aqi = ((I_high - I_low) / (BP_high - BP_low)) * (concentration - BP_low) + I_low\n",
        "            # Determine the AQI category\n",
        "            for (low, high), category in aqi_categories.items():\n",
        "                if low <= aqi <= high:\n",
        "                    return round(aqi, 2), category\n",
        "    return None, None  # If no range matches\n",
        "\n",
        "# Function to calculate max AQI and category across pollutants\n",
        "def calculate_max_aqi_and_category(row):\n",
        "    pollutants = ['PM2.5', 'PM10', 'NO2', 'CO', 'SO2', 'O3']\n",
        "    aqi_values = []\n",
        "    categories = []\n",
        "\n",
        "    # Calculate AQI and category for each pollutant\n",
        "    for pollutant in pollutants:\n",
        "        aqi, category = calculate_aqi(row[pollutant], pollutant)\n",
        "        if aqi is not None:\n",
        "            aqi_values.append(aqi)\n",
        "            categories.append(category)\n",
        "\n",
        "    # Determine maximum AQI and its category\n",
        "    if aqi_values:\n",
        "        max_aqi = max(aqi_values)\n",
        "        max_category = categories[aqi_values.index(max_aqi)]\n",
        "        return max_aqi, max_category\n",
        "    else:\n",
        "        return None, None\n",
        "\n",
        "# Apply AQI calculations to the dataset\n",
        "data['MAX_AQI'], data['AQI_CATEGORY'] = zip(*data.apply(calculate_max_aqi_and_category, axis=1))\n",
        "\n",
        "# Display the results\n",
        "print(data[['PM2.5', 'PM10', 'NO2', 'CO', 'SO2', 'O3', 'MAX_AQI', 'AQI_CATEGORY']].head())"
      ],
      "metadata": {
        "id": "Nu88vARmfSt1"
      },
      "execution_count": null,
      "outputs": []
    },
    {
      "cell_type": "code",
      "source": [
        "data.head()"
      ],
      "metadata": {
        "id": "pp4p9V9EHCDm"
      },
      "execution_count": null,
      "outputs": []
    },
    {
      "cell_type": "code",
      "source": [
        "data.describe()"
      ],
      "metadata": {
        "id": "JviZUG0vR6gA"
      },
      "execution_count": null,
      "outputs": []
    },
    {
      "cell_type": "markdown",
      "source": [
        "Save the Clean Dataset to the Google Drive."
      ],
      "metadata": {
        "id": "NyBpc7bBsmmy"
      }
    },
    {
      "cell_type": "markdown",
      "source": [
        "# **Handle Outliers in My Dataset.**"
      ],
      "metadata": {
        "id": "2JKD2GBNnNpp"
      }
    },
    {
      "cell_type": "markdown",
      "source": [
        "# **plot boxplot to check outliers in my dataset selected columns**"
      ],
      "metadata": {
        "id": "e7ExZwBDsDRG"
      }
    },
    {
      "cell_type": "code",
      "source": [
        "# # Function to detect and summarize outliers\n",
        "# def detect_outliers_iqr(df, column):\n",
        "#     q1 = df[column].quantile(0.25)\n",
        "#     q3 = df[column].quantile(0.75)\n",
        "#     iqr = q3 - q1\n",
        "#     lower_bound = q1 - 1.5 * iqr\n",
        "#     upper_bound = q3 + 1.5 * iqr\n",
        "\n",
        "#     outliers = df[(df[column] < lower_bound) | (df[column] > upper_bound)]\n",
        "#     print(f\"{column}: Found {len(outliers)} outliers\")\n",
        "#     return lower_bound, upper_bound\n",
        "\n",
        "# # Detect outliers in RAIN and WS\n",
        "# rain_lower, rain_upper = detect_outliers_iqr(data, 'RAIN')\n"
      ],
      "metadata": {
        "id": "oPDRIIbDPAuV"
      },
      "execution_count": null,
      "outputs": []
    },
    {
      "cell_type": "code",
      "source": [
        "# data['RAIN'] = data['RAIN'].clip(lower=rain_lower, upper=rain_upper)"
      ],
      "metadata": {
        "id": "2_LaOJ7JPLWE"
      },
      "execution_count": null,
      "outputs": []
    },
    {
      "cell_type": "code",
      "source": [
        "# # Summary statistics after handling\n",
        "# print(data[['RAIN']].describe())\n",
        "\n",
        "# # Visualization\n",
        "# plt.figure(figsize=(12, 5))\n",
        "\n",
        "# # RAIN distribution\n",
        "# plt.subplot(1, 2, 1)\n",
        "# sns.boxplot(data=data, x='RAIN')\n",
        "# plt.title('RAIN After Handling Outliers')\n",
        "\n",
        "# # # WS distribution\n",
        "# # plt.subplot(1, 2, 2)\n",
        "# # sns.boxplot(data=data, x='WS')\n",
        "# # plt.title('WS After Handling Outliers')\n",
        "\n",
        "# plt.show()\n"
      ],
      "metadata": {
        "id": "hNwh7kq-PPEi"
      },
      "execution_count": null,
      "outputs": []
    },
    {
      "cell_type": "code",
      "source": [
        "import matplotlib.pyplot as plt\n",
        "import seaborn as sns\n",
        "\n",
        "# Plot boxplots for numerical columns\n",
        "numerical_columns = ['PM2.5', 'PM10', 'SO2', 'NO2', 'CO', 'O3','MAX_AQI','WS']\n",
        "\n",
        "plt.figure(figsize=(16, 10))\n",
        "for i, col in enumerate(numerical_columns):\n",
        "    plt.subplot(2, 4, i+1)\n",
        "    sns.boxplot(y=data[col], color='skyblue')\n",
        "    plt.title(f\"Boxplot of {col}\")\n",
        "plt.tight_layout()\n",
        "plt.show()\n"
      ],
      "metadata": {
        "id": "0dVDZC9XnRMB"
      },
      "execution_count": null,
      "outputs": []
    },
    {
      "cell_type": "markdown",
      "source": [
        "# **check the each column number of outliers using IRQ function.**"
      ],
      "metadata": {
        "id": "rYxqCLrNsI5I"
      }
    },
    {
      "cell_type": "code",
      "source": [
        "# Function to detect outliers using IQR\n",
        "def detect_outliers_iqr(df, column):\n",
        "    Q1 = df[column].quantile(0.25)\n",
        "    Q3 = df[column].quantile(0.75)\n",
        "    IQR = Q3 - Q1\n",
        "    lower_bound = Q1 - 1.5 * IQR\n",
        "    upper_bound = Q3 + 1.5 * IQR\n",
        "\n",
        "    outliers = df[(df[column] < lower_bound) | (df[column] > upper_bound)]\n",
        "    print(f\"{column}: Found {len(outliers)} outliers\")\n",
        "    return outliers\n",
        "\n",
        "# Check outliers for each column\n",
        "for col in numerical_columns:\n",
        "    detect_outliers_iqr(data, col)\n"
      ],
      "metadata": {
        "id": "y6__Z6QaqLfV"
      },
      "execution_count": null,
      "outputs": []
    },
    {
      "cell_type": "markdown",
      "source": [
        "# **use cap method to replace my outliers with the nearest valid values**"
      ],
      "metadata": {
        "id": "cl2G7kyKsiFN"
      }
    },
    {
      "cell_type": "code",
      "source": [
        "# Capping outliers using IQR method\n",
        "def cap_outliers(df, column):\n",
        "    Q1 = df[column].quantile(0.25)\n",
        "    Q3 = df[column].quantile(0.75)\n",
        "    IQR = Q3 - Q1\n",
        "    lower_bound = Q1 - 1.5 * IQR\n",
        "    upper_bound = Q3 + 1.5 * IQR\n",
        "\n",
        "    df[column] = df[column].clip(lower=lower_bound, upper=upper_bound)\n",
        "    return df\n",
        "\n",
        "# Cap outliers for all numerical columns\n",
        "for col in numerical_columns:\n",
        "    data = cap_outliers(data, col)\n"
      ],
      "metadata": {
        "id": "yF0IEFH9qZpb"
      },
      "execution_count": null,
      "outputs": []
    },
    {
      "cell_type": "markdown",
      "source": [
        "# **Check again using boxplot still we have the outliers in my dataset.**"
      ],
      "metadata": {
        "id": "F5wAy-UWtDDa"
      }
    },
    {
      "cell_type": "code",
      "source": [
        "import matplotlib.pyplot as plt\n",
        "import seaborn as sns\n",
        "\n",
        "# Plot boxplots for numerical columns\n",
        "numerical_columns = ['PM2.5', 'PM10', 'SO2', 'NO2', 'CO','MAX_AQI','WS']\n",
        "\n",
        "plt.figure(figsize=(16, 10))\n",
        "for i, col in enumerate(numerical_columns):\n",
        "    plt.subplot(2, 4, i+1)\n",
        "    sns.boxplot(y=data[col], color='skyblue')\n",
        "    plt.title(f\"Boxplot of {col}\")\n",
        "plt.tight_layout()\n",
        "plt.show()\n"
      ],
      "metadata": {
        "id": "vybHmkgurw-e"
      },
      "execution_count": null,
      "outputs": []
    },
    {
      "cell_type": "code",
      "source": [
        "data.head()"
      ],
      "metadata": {
        "id": "U8bVCK3UlHm0"
      },
      "execution_count": null,
      "outputs": []
    },
    {
      "cell_type": "code",
      "source": [
        "data.to_csv(\"/content/drive/MyDrive/ColabNotebooks/DatasetCMP7005/MergeDataSet/Preprocessed-Beijing-Multi-Site-Air-Quality.CSV\", index=False)"
      ],
      "metadata": {
        "id": "xzIy8-WpBXbU"
      },
      "execution_count": null,
      "outputs": []
    },
    {
      "cell_type": "markdown",
      "source": [
        "# **EDA**"
      ],
      "metadata": {
        "id": "TcZQATw7oEdp"
      }
    },
    {
      "cell_type": "code",
      "source": [
        "print(\"Dataset Overview:\")\n",
        "print(data.head())"
      ],
      "metadata": {
        "id": "_cwocsdjnw7i"
      },
      "execution_count": null,
      "outputs": []
    },
    {
      "cell_type": "code",
      "source": [
        "print(\"Statistical Summary:\")\n",
        "print(data.describe().T)\n"
      ],
      "metadata": {
        "id": "_D6viaaWx2eO"
      },
      "execution_count": null,
      "outputs": []
    },
    {
      "cell_type": "code",
      "source": [
        "categorical_cols = data.select_dtypes(include=['category', 'object']).columns\n",
        "for col in categorical_cols:\n",
        "    print(f\"Value counts for {col}:\\n\", data[col].value_counts(), \"\\n\")\n"
      ],
      "metadata": {
        "id": "ASvRemBrx4hg"
      },
      "execution_count": null,
      "outputs": []
    },
    {
      "cell_type": "markdown",
      "source": [
        "# **Distribution Analysis for Numeric Features**"
      ],
      "metadata": {
        "id": "eWqE1d_ldUw6"
      }
    },
    {
      "cell_type": "code",
      "source": [
        "numeric_columns = ['PM2.5', 'PM10', 'SO2', 'NO2', 'CO', 'O3', 'TEMP', 'PRES', 'DEW_POINT', 'RAIN', 'WS', 'HUMIDITY', 'MAX_AQI']\n",
        "data[numeric_columns].hist(figsize=(15, 12), bins=30, color='skyblue', edgecolor='black')\n",
        "plt.suptitle('Distribution of Numeric Features', fontsize=16)\n",
        "plt.show()"
      ],
      "metadata": {
        "id": "fJf9BUgQdRGl"
      },
      "execution_count": null,
      "outputs": []
    },
    {
      "cell_type": "markdown",
      "source": [
        "# **Categorical Feature Analysis**"
      ],
      "metadata": {
        "id": "FO2BFXYCdia7"
      }
    },
    {
      "cell_type": "code",
      "source": [
        "plt.figure(figsize=(10, 6))\n",
        "data['AQI_CATEGORY'].value_counts().plot(kind='bar', color='purple', edgecolor='black')\n",
        "plt.title('Count of AQI Categories')\n",
        "plt.xlabel('AQI Categories')\n",
        "plt.ylabel('Count')\n",
        "plt.xticks(rotation=45)\n",
        "plt.show()"
      ],
      "metadata": {
        "id": "VmQunPVddgsl"
      },
      "execution_count": null,
      "outputs": []
    },
    {
      "cell_type": "markdown",
      "source": [
        "# **Correlation Analysis**"
      ],
      "metadata": {
        "id": "uLaFDhIOd0fH"
      }
    },
    {
      "cell_type": "code",
      "source": [
        "plt.figure(figsize=(12, 8))\n",
        "sns.heatmap(data[numeric_columns].corr(), annot=True, cmap='coolwarm', fmt='.2f', linewidths=0.5)\n",
        "plt.title('Correlation Heatmap')\n",
        "plt.show()"
      ],
      "metadata": {
        "id": "hM6nolXPdy0d"
      },
      "execution_count": null,
      "outputs": []
    },
    {
      "cell_type": "markdown",
      "source": [
        "# **Station-Specific Analysis**"
      ],
      "metadata": {
        "id": "SL2yn29_d99D"
      }
    },
    {
      "cell_type": "code",
      "source": [
        "station_group = data.groupby('STATION')[['PM2.5', 'PM10', 'SO2', 'NO2', 'CO', 'O3', 'MAX_AQI']].mean()\n",
        "station_group.plot(kind='bar', figsize=(18, 8), stacked=True, colormap='viridis')\n",
        "plt.title('Average Pollutants by Station')\n",
        "plt.ylabel('Average Levels')\n",
        "plt.xlabel('Station')\n",
        "plt.legend(loc='upper right')\n",
        "plt.show()"
      ],
      "metadata": {
        "id": "4gOEylNqd8YZ"
      },
      "execution_count": null,
      "outputs": []
    },
    {
      "cell_type": "code",
      "source": [
        "resampled_data = data[['PM2.5', 'PM10', 'MAX_AQI']].resample('M').mean()\n",
        "resampled_data.plot(figsize=(15, 6))\n",
        "plt.title('Monthly Trends of Pollutants')\n",
        "plt.ylabel('Average Levels')\n",
        "plt.show()\n"
      ],
      "metadata": {
        "id": "uUQ3XfiQeIRX"
      },
      "execution_count": null,
      "outputs": []
    },
    {
      "cell_type": "markdown",
      "source": [
        "# **Relationship Between Pollutants**"
      ],
      "metadata": {
        "id": "qg6wNdykf683"
      }
    },
    {
      "cell_type": "code",
      "source": [
        "sns.pairplot(data[numeric_columns + ['AQI_CATEGORY']], hue='AQI_CATEGORY', palette='husl', diag_kind='kde', height=2)\n",
        "plt.suptitle('Relationships Between Key Pollutants', y=1.02)\n",
        "plt.show()"
      ],
      "metadata": {
        "id": "3S-WxfiJfbhh",
        "outputId": "a07e3539-8edd-498f-f3d5-5f24753b5b8f",
        "colab": {
          "base_uri": "https://localhost:8080/",
          "height": 321
        }
      },
      "execution_count": null,
      "outputs": [
        {
          "output_type": "error",
          "ename": "KeyboardInterrupt",
          "evalue": "",
          "traceback": [
            "\u001b[0;31m---------------------------------------------------------------------------\u001b[0m",
            "\u001b[0;31mKeyboardInterrupt\u001b[0m                         Traceback (most recent call last)",
            "\u001b[0;32m<ipython-input-454-17144172b898>\u001b[0m in \u001b[0;36m<cell line: 1>\u001b[0;34m()\u001b[0m\n\u001b[0;32m----> 1\u001b[0;31m \u001b[0msns\u001b[0m\u001b[0;34m.\u001b[0m\u001b[0mpairplot\u001b[0m\u001b[0;34m(\u001b[0m\u001b[0mdata\u001b[0m\u001b[0;34m[\u001b[0m\u001b[0mnumeric_columns\u001b[0m \u001b[0;34m+\u001b[0m \u001b[0;34m[\u001b[0m\u001b[0;34m'AQI_CATEGORY'\u001b[0m\u001b[0;34m]\u001b[0m\u001b[0;34m]\u001b[0m\u001b[0;34m,\u001b[0m \u001b[0mhue\u001b[0m\u001b[0;34m=\u001b[0m\u001b[0;34m'AQI_CATEGORY'\u001b[0m\u001b[0;34m,\u001b[0m \u001b[0mpalette\u001b[0m\u001b[0;34m=\u001b[0m\u001b[0;34m'husl'\u001b[0m\u001b[0;34m,\u001b[0m \u001b[0mdiag_kind\u001b[0m\u001b[0;34m=\u001b[0m\u001b[0;34m'kde'\u001b[0m\u001b[0;34m,\u001b[0m \u001b[0mheight\u001b[0m\u001b[0;34m=\u001b[0m\u001b[0;36m2\u001b[0m\u001b[0;34m)\u001b[0m\u001b[0;34m\u001b[0m\u001b[0;34m\u001b[0m\u001b[0m\n\u001b[0m\u001b[1;32m      2\u001b[0m \u001b[0mplt\u001b[0m\u001b[0;34m.\u001b[0m\u001b[0msuptitle\u001b[0m\u001b[0;34m(\u001b[0m\u001b[0;34m'Relationships Between Key Pollutants'\u001b[0m\u001b[0;34m,\u001b[0m \u001b[0my\u001b[0m\u001b[0;34m=\u001b[0m\u001b[0;36m1.02\u001b[0m\u001b[0;34m)\u001b[0m\u001b[0;34m\u001b[0m\u001b[0;34m\u001b[0m\u001b[0m\n\u001b[1;32m      3\u001b[0m \u001b[0mplt\u001b[0m\u001b[0;34m.\u001b[0m\u001b[0mshow\u001b[0m\u001b[0;34m(\u001b[0m\u001b[0;34m)\u001b[0m\u001b[0;34m\u001b[0m\u001b[0;34m\u001b[0m\u001b[0m\n",
            "\u001b[0;32m/usr/local/lib/python3.10/dist-packages/seaborn/axisgrid.py\u001b[0m in \u001b[0;36mpairplot\u001b[0;34m(data, hue, hue_order, palette, vars, x_vars, y_vars, kind, diag_kind, markers, height, aspect, corner, dropna, plot_kws, diag_kws, grid_kws, size)\u001b[0m\n\u001b[1;32m   2175\u001b[0m     \u001b[0;31m# Add a legend\u001b[0m\u001b[0;34m\u001b[0m\u001b[0;34m\u001b[0m\u001b[0m\n\u001b[1;32m   2176\u001b[0m     \u001b[0;32mif\u001b[0m \u001b[0mhue\u001b[0m \u001b[0;32mis\u001b[0m \u001b[0;32mnot\u001b[0m \u001b[0;32mNone\u001b[0m\u001b[0;34m:\u001b[0m\u001b[0;34m\u001b[0m\u001b[0;34m\u001b[0m\u001b[0m\n\u001b[0;32m-> 2177\u001b[0;31m         \u001b[0mgrid\u001b[0m\u001b[0;34m.\u001b[0m\u001b[0madd_legend\u001b[0m\u001b[0;34m(\u001b[0m\u001b[0;34m)\u001b[0m\u001b[0;34m\u001b[0m\u001b[0;34m\u001b[0m\u001b[0m\n\u001b[0m\u001b[1;32m   2178\u001b[0m \u001b[0;34m\u001b[0m\u001b[0m\n\u001b[1;32m   2179\u001b[0m     \u001b[0mgrid\u001b[0m\u001b[0;34m.\u001b[0m\u001b[0mtight_layout\u001b[0m\u001b[0;34m(\u001b[0m\u001b[0;34m)\u001b[0m\u001b[0;34m\u001b[0m\u001b[0;34m\u001b[0m\u001b[0m\n",
            "\u001b[0;32m/usr/local/lib/python3.10/dist-packages/seaborn/axisgrid.py\u001b[0m in \u001b[0;36madd_legend\u001b[0;34m(self, legend_data, title, label_order, adjust_subtitles, **kwargs)\u001b[0m\n\u001b[1;32m    193\u001b[0m \u001b[0;34m\u001b[0m\u001b[0m\n\u001b[1;32m    194\u001b[0m             \u001b[0;31m# Draw the plot to set the bounding boxes correctly\u001b[0m\u001b[0;34m\u001b[0m\u001b[0;34m\u001b[0m\u001b[0m\n\u001b[0;32m--> 195\u001b[0;31m             \u001b[0m_draw_figure\u001b[0m\u001b[0;34m(\u001b[0m\u001b[0mself\u001b[0m\u001b[0;34m.\u001b[0m\u001b[0m_figure\u001b[0m\u001b[0;34m)\u001b[0m\u001b[0;34m\u001b[0m\u001b[0;34m\u001b[0m\u001b[0m\n\u001b[0m\u001b[1;32m    196\u001b[0m \u001b[0;34m\u001b[0m\u001b[0m\n\u001b[1;32m    197\u001b[0m             \u001b[0;31m# Calculate and set the new width of the figure so the legend fits\u001b[0m\u001b[0;34m\u001b[0m\u001b[0;34m\u001b[0m\u001b[0m\n",
            "\u001b[0;32m/usr/local/lib/python3.10/dist-packages/seaborn/utils.py\u001b[0m in \u001b[0;36m_draw_figure\u001b[0;34m(fig)\u001b[0m\n\u001b[1;32m     59\u001b[0m     \u001b[0;34m\"\"\"Force draw of a matplotlib figure, accounting for back-compat.\"\"\"\u001b[0m\u001b[0;34m\u001b[0m\u001b[0;34m\u001b[0m\u001b[0m\n\u001b[1;32m     60\u001b[0m     \u001b[0;31m# See https://github.com/matplotlib/matplotlib/issues/19197 for context\u001b[0m\u001b[0;34m\u001b[0m\u001b[0;34m\u001b[0m\u001b[0m\n\u001b[0;32m---> 61\u001b[0;31m     \u001b[0mfig\u001b[0m\u001b[0;34m.\u001b[0m\u001b[0mcanvas\u001b[0m\u001b[0;34m.\u001b[0m\u001b[0mdraw\u001b[0m\u001b[0;34m(\u001b[0m\u001b[0;34m)\u001b[0m\u001b[0;34m\u001b[0m\u001b[0;34m\u001b[0m\u001b[0m\n\u001b[0m\u001b[1;32m     62\u001b[0m     \u001b[0;32mif\u001b[0m \u001b[0mfig\u001b[0m\u001b[0;34m.\u001b[0m\u001b[0mstale\u001b[0m\u001b[0;34m:\u001b[0m\u001b[0;34m\u001b[0m\u001b[0;34m\u001b[0m\u001b[0m\n\u001b[1;32m     63\u001b[0m         \u001b[0;32mtry\u001b[0m\u001b[0;34m:\u001b[0m\u001b[0;34m\u001b[0m\u001b[0;34m\u001b[0m\u001b[0m\n",
            "\u001b[0;32m/usr/local/lib/python3.10/dist-packages/matplotlib/backends/backend_agg.py\u001b[0m in \u001b[0;36mdraw\u001b[0;34m(self)\u001b[0m\n\u001b[1;32m    386\u001b[0m         with (self.toolbar._wait_cursor_for_draw_cm() if self.toolbar\n\u001b[1;32m    387\u001b[0m               else nullcontext()):\n\u001b[0;32m--> 388\u001b[0;31m             \u001b[0mself\u001b[0m\u001b[0;34m.\u001b[0m\u001b[0mfigure\u001b[0m\u001b[0;34m.\u001b[0m\u001b[0mdraw\u001b[0m\u001b[0;34m(\u001b[0m\u001b[0mself\u001b[0m\u001b[0;34m.\u001b[0m\u001b[0mrenderer\u001b[0m\u001b[0;34m)\u001b[0m\u001b[0;34m\u001b[0m\u001b[0;34m\u001b[0m\u001b[0m\n\u001b[0m\u001b[1;32m    389\u001b[0m             \u001b[0;31m# A GUI class may be need to update a window using this draw, so\u001b[0m\u001b[0;34m\u001b[0m\u001b[0;34m\u001b[0m\u001b[0m\n\u001b[1;32m    390\u001b[0m             \u001b[0;31m# don't forget to call the superclass.\u001b[0m\u001b[0;34m\u001b[0m\u001b[0;34m\u001b[0m\u001b[0m\n",
            "\u001b[0;32m/usr/local/lib/python3.10/dist-packages/matplotlib/artist.py\u001b[0m in \u001b[0;36mdraw_wrapper\u001b[0;34m(artist, renderer, *args, **kwargs)\u001b[0m\n\u001b[1;32m     93\u001b[0m     \u001b[0;34m@\u001b[0m\u001b[0mwraps\u001b[0m\u001b[0;34m(\u001b[0m\u001b[0mdraw\u001b[0m\u001b[0;34m)\u001b[0m\u001b[0;34m\u001b[0m\u001b[0;34m\u001b[0m\u001b[0m\n\u001b[1;32m     94\u001b[0m     \u001b[0;32mdef\u001b[0m \u001b[0mdraw_wrapper\u001b[0m\u001b[0;34m(\u001b[0m\u001b[0martist\u001b[0m\u001b[0;34m,\u001b[0m \u001b[0mrenderer\u001b[0m\u001b[0;34m,\u001b[0m \u001b[0;34m*\u001b[0m\u001b[0margs\u001b[0m\u001b[0;34m,\u001b[0m \u001b[0;34m**\u001b[0m\u001b[0mkwargs\u001b[0m\u001b[0;34m)\u001b[0m\u001b[0;34m:\u001b[0m\u001b[0;34m\u001b[0m\u001b[0;34m\u001b[0m\u001b[0m\n\u001b[0;32m---> 95\u001b[0;31m         \u001b[0mresult\u001b[0m \u001b[0;34m=\u001b[0m \u001b[0mdraw\u001b[0m\u001b[0;34m(\u001b[0m\u001b[0martist\u001b[0m\u001b[0;34m,\u001b[0m \u001b[0mrenderer\u001b[0m\u001b[0;34m,\u001b[0m \u001b[0;34m*\u001b[0m\u001b[0margs\u001b[0m\u001b[0;34m,\u001b[0m \u001b[0;34m**\u001b[0m\u001b[0mkwargs\u001b[0m\u001b[0;34m)\u001b[0m\u001b[0;34m\u001b[0m\u001b[0;34m\u001b[0m\u001b[0m\n\u001b[0m\u001b[1;32m     96\u001b[0m         \u001b[0;32mif\u001b[0m \u001b[0mrenderer\u001b[0m\u001b[0;34m.\u001b[0m\u001b[0m_rasterizing\u001b[0m\u001b[0;34m:\u001b[0m\u001b[0;34m\u001b[0m\u001b[0;34m\u001b[0m\u001b[0m\n\u001b[1;32m     97\u001b[0m             \u001b[0mrenderer\u001b[0m\u001b[0;34m.\u001b[0m\u001b[0mstop_rasterizing\u001b[0m\u001b[0;34m(\u001b[0m\u001b[0;34m)\u001b[0m\u001b[0;34m\u001b[0m\u001b[0;34m\u001b[0m\u001b[0m\n",
            "\u001b[0;32m/usr/local/lib/python3.10/dist-packages/matplotlib/artist.py\u001b[0m in \u001b[0;36mdraw_wrapper\u001b[0;34m(artist, renderer)\u001b[0m\n\u001b[1;32m     70\u001b[0m                 \u001b[0mrenderer\u001b[0m\u001b[0;34m.\u001b[0m\u001b[0mstart_filter\u001b[0m\u001b[0;34m(\u001b[0m\u001b[0;34m)\u001b[0m\u001b[0;34m\u001b[0m\u001b[0;34m\u001b[0m\u001b[0m\n\u001b[1;32m     71\u001b[0m \u001b[0;34m\u001b[0m\u001b[0m\n\u001b[0;32m---> 72\u001b[0;31m             \u001b[0;32mreturn\u001b[0m \u001b[0mdraw\u001b[0m\u001b[0;34m(\u001b[0m\u001b[0martist\u001b[0m\u001b[0;34m,\u001b[0m \u001b[0mrenderer\u001b[0m\u001b[0;34m)\u001b[0m\u001b[0;34m\u001b[0m\u001b[0;34m\u001b[0m\u001b[0m\n\u001b[0m\u001b[1;32m     73\u001b[0m         \u001b[0;32mfinally\u001b[0m\u001b[0;34m:\u001b[0m\u001b[0;34m\u001b[0m\u001b[0;34m\u001b[0m\u001b[0m\n\u001b[1;32m     74\u001b[0m             \u001b[0;32mif\u001b[0m \u001b[0martist\u001b[0m\u001b[0;34m.\u001b[0m\u001b[0mget_agg_filter\u001b[0m\u001b[0;34m(\u001b[0m\u001b[0;34m)\u001b[0m \u001b[0;32mis\u001b[0m \u001b[0;32mnot\u001b[0m \u001b[0;32mNone\u001b[0m\u001b[0;34m:\u001b[0m\u001b[0;34m\u001b[0m\u001b[0;34m\u001b[0m\u001b[0m\n",
            "\u001b[0;32m/usr/local/lib/python3.10/dist-packages/matplotlib/figure.py\u001b[0m in \u001b[0;36mdraw\u001b[0;34m(self, renderer)\u001b[0m\n\u001b[1;32m   3152\u001b[0m \u001b[0;34m\u001b[0m\u001b[0m\n\u001b[1;32m   3153\u001b[0m                 \u001b[0mself\u001b[0m\u001b[0;34m.\u001b[0m\u001b[0mpatch\u001b[0m\u001b[0;34m.\u001b[0m\u001b[0mdraw\u001b[0m\u001b[0;34m(\u001b[0m\u001b[0mrenderer\u001b[0m\u001b[0;34m)\u001b[0m\u001b[0;34m\u001b[0m\u001b[0;34m\u001b[0m\u001b[0m\n\u001b[0;32m-> 3154\u001b[0;31m                 mimage._draw_list_compositing_images(\n\u001b[0m\u001b[1;32m   3155\u001b[0m                     renderer, self, artists, self.suppressComposite)\n\u001b[1;32m   3156\u001b[0m \u001b[0;34m\u001b[0m\u001b[0m\n",
            "\u001b[0;32m/usr/local/lib/python3.10/dist-packages/matplotlib/image.py\u001b[0m in \u001b[0;36m_draw_list_compositing_images\u001b[0;34m(renderer, parent, artists, suppress_composite)\u001b[0m\n\u001b[1;32m    130\u001b[0m     \u001b[0;32mif\u001b[0m \u001b[0mnot_composite\u001b[0m \u001b[0;32mor\u001b[0m \u001b[0;32mnot\u001b[0m \u001b[0mhas_images\u001b[0m\u001b[0;34m:\u001b[0m\u001b[0;34m\u001b[0m\u001b[0;34m\u001b[0m\u001b[0m\n\u001b[1;32m    131\u001b[0m         \u001b[0;32mfor\u001b[0m \u001b[0ma\u001b[0m \u001b[0;32min\u001b[0m \u001b[0martists\u001b[0m\u001b[0;34m:\u001b[0m\u001b[0;34m\u001b[0m\u001b[0;34m\u001b[0m\u001b[0m\n\u001b[0;32m--> 132\u001b[0;31m             \u001b[0ma\u001b[0m\u001b[0;34m.\u001b[0m\u001b[0mdraw\u001b[0m\u001b[0;34m(\u001b[0m\u001b[0mrenderer\u001b[0m\u001b[0;34m)\u001b[0m\u001b[0;34m\u001b[0m\u001b[0;34m\u001b[0m\u001b[0m\n\u001b[0m\u001b[1;32m    133\u001b[0m     \u001b[0;32melse\u001b[0m\u001b[0;34m:\u001b[0m\u001b[0;34m\u001b[0m\u001b[0;34m\u001b[0m\u001b[0m\n\u001b[1;32m    134\u001b[0m         \u001b[0;31m# Composite any adjacent images together\u001b[0m\u001b[0;34m\u001b[0m\u001b[0;34m\u001b[0m\u001b[0m\n",
            "\u001b[0;32m/usr/local/lib/python3.10/dist-packages/matplotlib/artist.py\u001b[0m in \u001b[0;36mdraw_wrapper\u001b[0;34m(artist, renderer)\u001b[0m\n\u001b[1;32m     70\u001b[0m                 \u001b[0mrenderer\u001b[0m\u001b[0;34m.\u001b[0m\u001b[0mstart_filter\u001b[0m\u001b[0;34m(\u001b[0m\u001b[0;34m)\u001b[0m\u001b[0;34m\u001b[0m\u001b[0;34m\u001b[0m\u001b[0m\n\u001b[1;32m     71\u001b[0m \u001b[0;34m\u001b[0m\u001b[0m\n\u001b[0;32m---> 72\u001b[0;31m             \u001b[0;32mreturn\u001b[0m \u001b[0mdraw\u001b[0m\u001b[0;34m(\u001b[0m\u001b[0martist\u001b[0m\u001b[0;34m,\u001b[0m \u001b[0mrenderer\u001b[0m\u001b[0;34m)\u001b[0m\u001b[0;34m\u001b[0m\u001b[0;34m\u001b[0m\u001b[0m\n\u001b[0m\u001b[1;32m     73\u001b[0m         \u001b[0;32mfinally\u001b[0m\u001b[0;34m:\u001b[0m\u001b[0;34m\u001b[0m\u001b[0;34m\u001b[0m\u001b[0m\n\u001b[1;32m     74\u001b[0m             \u001b[0;32mif\u001b[0m \u001b[0martist\u001b[0m\u001b[0;34m.\u001b[0m\u001b[0mget_agg_filter\u001b[0m\u001b[0;34m(\u001b[0m\u001b[0;34m)\u001b[0m \u001b[0;32mis\u001b[0m \u001b[0;32mnot\u001b[0m \u001b[0;32mNone\u001b[0m\u001b[0;34m:\u001b[0m\u001b[0;34m\u001b[0m\u001b[0;34m\u001b[0m\u001b[0m\n",
            "\u001b[0;32m/usr/local/lib/python3.10/dist-packages/matplotlib/axes/_base.py\u001b[0m in \u001b[0;36mdraw\u001b[0;34m(self, renderer)\u001b[0m\n\u001b[1;32m   3068\u001b[0m             \u001b[0m_draw_rasterized\u001b[0m\u001b[0;34m(\u001b[0m\u001b[0mself\u001b[0m\u001b[0;34m.\u001b[0m\u001b[0mfigure\u001b[0m\u001b[0;34m,\u001b[0m \u001b[0martists_rasterized\u001b[0m\u001b[0;34m,\u001b[0m \u001b[0mrenderer\u001b[0m\u001b[0;34m)\u001b[0m\u001b[0;34m\u001b[0m\u001b[0;34m\u001b[0m\u001b[0m\n\u001b[1;32m   3069\u001b[0m \u001b[0;34m\u001b[0m\u001b[0m\n\u001b[0;32m-> 3070\u001b[0;31m         mimage._draw_list_compositing_images(\n\u001b[0m\u001b[1;32m   3071\u001b[0m             renderer, self, artists, self.figure.suppressComposite)\n\u001b[1;32m   3072\u001b[0m \u001b[0;34m\u001b[0m\u001b[0m\n",
            "\u001b[0;32m/usr/local/lib/python3.10/dist-packages/matplotlib/image.py\u001b[0m in \u001b[0;36m_draw_list_compositing_images\u001b[0;34m(renderer, parent, artists, suppress_composite)\u001b[0m\n\u001b[1;32m    130\u001b[0m     \u001b[0;32mif\u001b[0m \u001b[0mnot_composite\u001b[0m \u001b[0;32mor\u001b[0m \u001b[0;32mnot\u001b[0m \u001b[0mhas_images\u001b[0m\u001b[0;34m:\u001b[0m\u001b[0;34m\u001b[0m\u001b[0;34m\u001b[0m\u001b[0m\n\u001b[1;32m    131\u001b[0m         \u001b[0;32mfor\u001b[0m \u001b[0ma\u001b[0m \u001b[0;32min\u001b[0m \u001b[0martists\u001b[0m\u001b[0;34m:\u001b[0m\u001b[0;34m\u001b[0m\u001b[0;34m\u001b[0m\u001b[0m\n\u001b[0;32m--> 132\u001b[0;31m             \u001b[0ma\u001b[0m\u001b[0;34m.\u001b[0m\u001b[0mdraw\u001b[0m\u001b[0;34m(\u001b[0m\u001b[0mrenderer\u001b[0m\u001b[0;34m)\u001b[0m\u001b[0;34m\u001b[0m\u001b[0;34m\u001b[0m\u001b[0m\n\u001b[0m\u001b[1;32m    133\u001b[0m     \u001b[0;32melse\u001b[0m\u001b[0;34m:\u001b[0m\u001b[0;34m\u001b[0m\u001b[0;34m\u001b[0m\u001b[0m\n\u001b[1;32m    134\u001b[0m         \u001b[0;31m# Composite any adjacent images together\u001b[0m\u001b[0;34m\u001b[0m\u001b[0;34m\u001b[0m\u001b[0m\n",
            "\u001b[0;32m/usr/local/lib/python3.10/dist-packages/matplotlib/artist.py\u001b[0m in \u001b[0;36mdraw_wrapper\u001b[0;34m(artist, renderer)\u001b[0m\n\u001b[1;32m     70\u001b[0m                 \u001b[0mrenderer\u001b[0m\u001b[0;34m.\u001b[0m\u001b[0mstart_filter\u001b[0m\u001b[0;34m(\u001b[0m\u001b[0;34m)\u001b[0m\u001b[0;34m\u001b[0m\u001b[0;34m\u001b[0m\u001b[0m\n\u001b[1;32m     71\u001b[0m \u001b[0;34m\u001b[0m\u001b[0m\n\u001b[0;32m---> 72\u001b[0;31m             \u001b[0;32mreturn\u001b[0m \u001b[0mdraw\u001b[0m\u001b[0;34m(\u001b[0m\u001b[0martist\u001b[0m\u001b[0;34m,\u001b[0m \u001b[0mrenderer\u001b[0m\u001b[0;34m)\u001b[0m\u001b[0;34m\u001b[0m\u001b[0;34m\u001b[0m\u001b[0m\n\u001b[0m\u001b[1;32m     73\u001b[0m         \u001b[0;32mfinally\u001b[0m\u001b[0;34m:\u001b[0m\u001b[0;34m\u001b[0m\u001b[0;34m\u001b[0m\u001b[0m\n\u001b[1;32m     74\u001b[0m             \u001b[0;32mif\u001b[0m \u001b[0martist\u001b[0m\u001b[0;34m.\u001b[0m\u001b[0mget_agg_filter\u001b[0m\u001b[0;34m(\u001b[0m\u001b[0;34m)\u001b[0m \u001b[0;32mis\u001b[0m \u001b[0;32mnot\u001b[0m \u001b[0;32mNone\u001b[0m\u001b[0;34m:\u001b[0m\u001b[0;34m\u001b[0m\u001b[0;34m\u001b[0m\u001b[0m\n",
            "\u001b[0;32m/usr/local/lib/python3.10/dist-packages/matplotlib/collections.py\u001b[0m in \u001b[0;36mdraw\u001b[0;34m(self, renderer)\u001b[0m\n\u001b[1;32m   1003\u001b[0m     \u001b[0;32mdef\u001b[0m \u001b[0mdraw\u001b[0m\u001b[0;34m(\u001b[0m\u001b[0mself\u001b[0m\u001b[0;34m,\u001b[0m \u001b[0mrenderer\u001b[0m\u001b[0;34m)\u001b[0m\u001b[0;34m:\u001b[0m\u001b[0;34m\u001b[0m\u001b[0;34m\u001b[0m\u001b[0m\n\u001b[1;32m   1004\u001b[0m         \u001b[0mself\u001b[0m\u001b[0;34m.\u001b[0m\u001b[0mset_sizes\u001b[0m\u001b[0;34m(\u001b[0m\u001b[0mself\u001b[0m\u001b[0;34m.\u001b[0m\u001b[0m_sizes\u001b[0m\u001b[0;34m,\u001b[0m \u001b[0mself\u001b[0m\u001b[0;34m.\u001b[0m\u001b[0mfigure\u001b[0m\u001b[0;34m.\u001b[0m\u001b[0mdpi\u001b[0m\u001b[0;34m)\u001b[0m\u001b[0;34m\u001b[0m\u001b[0;34m\u001b[0m\u001b[0m\n\u001b[0;32m-> 1005\u001b[0;31m         \u001b[0msuper\u001b[0m\u001b[0;34m(\u001b[0m\u001b[0;34m)\u001b[0m\u001b[0;34m.\u001b[0m\u001b[0mdraw\u001b[0m\u001b[0;34m(\u001b[0m\u001b[0mrenderer\u001b[0m\u001b[0;34m)\u001b[0m\u001b[0;34m\u001b[0m\u001b[0;34m\u001b[0m\u001b[0m\n\u001b[0m\u001b[1;32m   1006\u001b[0m \u001b[0;34m\u001b[0m\u001b[0m\n\u001b[1;32m   1007\u001b[0m \u001b[0;34m\u001b[0m\u001b[0m\n",
            "\u001b[0;32m/usr/local/lib/python3.10/dist-packages/matplotlib/artist.py\u001b[0m in \u001b[0;36mdraw_wrapper\u001b[0;34m(artist, renderer)\u001b[0m\n\u001b[1;32m     70\u001b[0m                 \u001b[0mrenderer\u001b[0m\u001b[0;34m.\u001b[0m\u001b[0mstart_filter\u001b[0m\u001b[0;34m(\u001b[0m\u001b[0;34m)\u001b[0m\u001b[0;34m\u001b[0m\u001b[0;34m\u001b[0m\u001b[0m\n\u001b[1;32m     71\u001b[0m \u001b[0;34m\u001b[0m\u001b[0m\n\u001b[0;32m---> 72\u001b[0;31m             \u001b[0;32mreturn\u001b[0m \u001b[0mdraw\u001b[0m\u001b[0;34m(\u001b[0m\u001b[0martist\u001b[0m\u001b[0;34m,\u001b[0m \u001b[0mrenderer\u001b[0m\u001b[0;34m)\u001b[0m\u001b[0;34m\u001b[0m\u001b[0;34m\u001b[0m\u001b[0m\n\u001b[0m\u001b[1;32m     73\u001b[0m         \u001b[0;32mfinally\u001b[0m\u001b[0;34m:\u001b[0m\u001b[0;34m\u001b[0m\u001b[0;34m\u001b[0m\u001b[0m\n\u001b[1;32m     74\u001b[0m             \u001b[0;32mif\u001b[0m \u001b[0martist\u001b[0m\u001b[0;34m.\u001b[0m\u001b[0mget_agg_filter\u001b[0m\u001b[0;34m(\u001b[0m\u001b[0;34m)\u001b[0m \u001b[0;32mis\u001b[0m \u001b[0;32mnot\u001b[0m \u001b[0;32mNone\u001b[0m\u001b[0;34m:\u001b[0m\u001b[0;34m\u001b[0m\u001b[0;34m\u001b[0m\u001b[0m\n",
            "\u001b[0;32m/usr/local/lib/python3.10/dist-packages/matplotlib/collections.py\u001b[0m in \u001b[0;36mdraw\u001b[0;34m(self, renderer)\u001b[0m\n\u001b[1;32m    421\u001b[0m                     \"screen\")\n\u001b[1;32m    422\u001b[0m \u001b[0;34m\u001b[0m\u001b[0m\n\u001b[0;32m--> 423\u001b[0;31m             renderer.draw_path_collection(\n\u001b[0m\u001b[1;32m    424\u001b[0m                 \u001b[0mgc\u001b[0m\u001b[0;34m,\u001b[0m \u001b[0mtransform\u001b[0m\u001b[0;34m.\u001b[0m\u001b[0mfrozen\u001b[0m\u001b[0;34m(\u001b[0m\u001b[0;34m)\u001b[0m\u001b[0;34m,\u001b[0m \u001b[0mpaths\u001b[0m\u001b[0;34m,\u001b[0m\u001b[0;34m\u001b[0m\u001b[0;34m\u001b[0m\u001b[0m\n\u001b[1;32m    425\u001b[0m                 \u001b[0mself\u001b[0m\u001b[0;34m.\u001b[0m\u001b[0mget_transforms\u001b[0m\u001b[0;34m(\u001b[0m\u001b[0;34m)\u001b[0m\u001b[0;34m,\u001b[0m \u001b[0moffsets\u001b[0m\u001b[0;34m,\u001b[0m \u001b[0moffset_trf\u001b[0m\u001b[0;34m,\u001b[0m\u001b[0;34m\u001b[0m\u001b[0;34m\u001b[0m\u001b[0m\n",
            "\u001b[0;32m/usr/local/lib/python3.10/dist-packages/matplotlib/path.py\u001b[0m in \u001b[0;36mvertices\u001b[0;34m(self)\u001b[0m\n\u001b[1;32m    209\u001b[0m         )\n\u001b[1;32m    210\u001b[0m \u001b[0;34m\u001b[0m\u001b[0m\n\u001b[0;32m--> 211\u001b[0;31m     \u001b[0;34m@\u001b[0m\u001b[0mproperty\u001b[0m\u001b[0;34m\u001b[0m\u001b[0;34m\u001b[0m\u001b[0m\n\u001b[0m\u001b[1;32m    212\u001b[0m     \u001b[0;32mdef\u001b[0m \u001b[0mvertices\u001b[0m\u001b[0;34m(\u001b[0m\u001b[0mself\u001b[0m\u001b[0;34m)\u001b[0m\u001b[0;34m:\u001b[0m\u001b[0;34m\u001b[0m\u001b[0;34m\u001b[0m\u001b[0m\n\u001b[1;32m    213\u001b[0m         \u001b[0;34m\"\"\"The vertices of the `Path` as an (N, 2) array.\"\"\"\u001b[0m\u001b[0;34m\u001b[0m\u001b[0;34m\u001b[0m\u001b[0m\n",
            "\u001b[0;31mKeyboardInterrupt\u001b[0m: "
          ]
        }
      ]
    },
    {
      "cell_type": "markdown",
      "source": [
        "# **Wind Direction Analysis**"
      ],
      "metadata": {
        "id": "bgEfw-AxgE8H"
      }
    },
    {
      "cell_type": "code",
      "source": [
        "plt.figure(figsize=(10, 6))\n",
        "sns.histplot(data['WD'], bins=16, kde=True, color='purple')\n",
        "plt.title('Distribution of Wind Direction')\n",
        "plt.xlabel('Wind Direction (Degrees)')\n",
        "plt.ylabel('Frequency')\n",
        "plt.show()"
      ],
      "metadata": {
        "id": "UJrzuN_6f_rU"
      },
      "execution_count": null,
      "outputs": []
    },
    {
      "cell_type": "code",
      "source": [
        "for col in categorical_cols:\n",
        "    plt.figure(figsize=(12, 6))\n",
        "    sns.countplot(data=data, x=col, hue=\"MAX_AQI\", palette=\"viridis\")\n",
        "    plt.title(f\"Count of {col}\")\n",
        "    plt.xticks(rotation=45)\n",
        "    plt.show()"
      ],
      "metadata": {
        "id": "NE10Ek2MyoS7"
      },
      "execution_count": null,
      "outputs": []
    },
    {
      "cell_type": "code",
      "source": [
        "# Example: Relationship between temperature and pollution level\n",
        "plt.figure(figsize=(10, 6))\n",
        "sns.scatterplot(data=data, x=\"TEMP\", y=\"MAX_AQI\", hue=\"AQI_CATEGORY\", palette=\"viridis\")\n",
        "plt.title(\"Temperature vs Pollution Level\")\n",
        "plt.show()\n"
      ],
      "metadata": {
        "id": "RyZYFk-ty8fi"
      },
      "execution_count": null,
      "outputs": []
    },
    {
      "cell_type": "code",
      "source": [
        "# Example: Pollution level across AQI categories\n",
        "if 'AQI_CATEGORY' in data.columns:\n",
        "    plt.figure(figsize=(12, 6))\n",
        "    sns.boxplot(data=data, x=\"AQI_CATEGORY\", y=\"MAX_AQI\", palette=\"Set3\")\n",
        "    plt.title(\"Pollution Level by AQI Category\")\n",
        "    plt.xticks(rotation=45)\n",
        "    plt.show()\n"
      ],
      "metadata": {
        "id": "LlUb2mUs0Ng7"
      },
      "execution_count": null,
      "outputs": []
    }
  ]
}